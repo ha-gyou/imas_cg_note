{
 "cells": [
  {
   "cell_type": "markdown",
   "metadata": {},
   "source": [
    "# まゆすき，まゆP以外はどれぐらい使ってるの？\n",
    "その謎を解明すべく我々はアマゾンの奥地へと向かった"
   ]
  },
  {
   "cell_type": "code",
   "execution_count": 1,
   "metadata": {
    "collapsed": true
   },
   "outputs": [],
   "source": [
    "# 直近10日分のツイートを取得したものを使用．\n",
    "raw_file = open(\"raw_data/mayusuki_tweet.txt\", encoding=\"utf-8\")"
   ]
  },
  {
   "cell_type": "code",
   "execution_count": 2,
   "metadata": {
    "collapsed": false
   },
   "outputs": [],
   "source": [
    "tweets = []\n",
    "bios = list()\n",
    "\n",
    "with raw_file:\n",
    "    for l in raw_file:\n",
    "        tmp = l.strip().split(\"#####\")\n",
    "        if len(tmp) == 2:\n",
    "            tweets.append(tmp[0])\n",
    "            bios.append(tmp[1])"
   ]
  },
  {
   "cell_type": "code",
   "execution_count": 3,
   "metadata": {
    "collapsed": true
   },
   "outputs": [],
   "source": [
    "import pandas as pd\n"
   ]
  },
  {
   "cell_type": "code",
   "execution_count": 4,
   "metadata": {
    "collapsed": false
   },
   "outputs": [
    {
     "name": "stdout",
     "output_type": "stream",
     "text": [
      "5299 5299\n"
     ]
    }
   ],
   "source": [
    "print(len(tweets),len(bios))"
   ]
  },
  {
   "cell_type": "code",
   "execution_count": 5,
   "metadata": {
    "collapsed": false
   },
   "outputs": [],
   "source": [
    "df = pd.DataFrame({\n",
    "    \"tweet\" : tweets,\n",
    "    \"bio\" : bios\n",
    "})"
   ]
  },
  {
   "cell_type": "code",
   "execution_count": 6,
   "metadata": {
    "collapsed": false
   },
   "outputs": [
    {
     "data": {
      "text/html": [
       "<div>\n",
       "<table border=\"1\" class=\"dataframe\">\n",
       "  <thead>\n",
       "    <tr style=\"text-align: right;\">\n",
       "      <th></th>\n",
       "      <th>bio</th>\n",
       "      <th>tweet</th>\n",
       "    </tr>\n",
       "  </thead>\n",
       "  <tbody>\n",
       "    <tr>\n",
       "      <th>0</th>\n",
       "      <td>Once again in that day.🌍🥀👄🌞🌷🌙🌈</td>\n",
       "      <td>今日はべーやとまゆちゃんが買い物に来てくれた💯👄💗幸せいっぱい。本当にありがとう😢あしたから...</td>\n",
       "    </tr>\n",
       "    <tr>\n",
       "      <th>1</th>\n",
       "      <td>†神崎蘭子・白坂小梅†担当  [Lv189]   Lunatic show101位   双翼...</td>\n",
       "      <td>まゆすき</td>\n",
       "    </tr>\n",
       "    <tr>\n",
       "      <th>2</th>\n",
       "      <td>なうたです 担当は桜庭薫硲先生アスラン恭二 あんスタ海外アニメマステMSSPバンやろなど雑に...</td>\n",
       "      <td>お迎え遅くなってごめんねまゆ…まゆすき… https://t.co/Wcmh73q9uy</td>\n",
       "    </tr>\n",
       "    <tr>\n",
       "      <th>3</th>\n",
       "      <td>”きょう”とよみます / 雑多垢 / 女の子多め / 提督プロデューサー団長総理社長 / ゲ...</td>\n",
       "      <td>#まゆすき#デレマス絵描きさんと繋がりたい まゆすき........... https://...</td>\n",
       "    </tr>\n",
       "    <tr>\n",
       "      <th>4</th>\n",
       "      <td>ara7 ⇨ tsm1-3</td>\n",
       "      <td>@mayu__ten_1119 まゆありがとうーーー！❤️運動神経抜群で髪の毛サラッサラで可...</td>\n",
       "    </tr>\n",
       "  </tbody>\n",
       "</table>\n",
       "</div>"
      ],
      "text/plain": [
       "                                                 bio  \\\n",
       "0                     Once again in that day.🌍🥀👄🌞🌷🌙🌈   \n",
       "1  †神崎蘭子・白坂小梅†担当  [Lv189]   Lunatic show101位   双翼...   \n",
       "2  なうたです 担当は桜庭薫硲先生アスラン恭二 あんスタ海外アニメマステMSSPバンやろなど雑に...   \n",
       "3  ”きょう”とよみます / 雑多垢 / 女の子多め / 提督プロデューサー団長総理社長 / ゲ...   \n",
       "4                                      ara7 ⇨ tsm1-3   \n",
       "\n",
       "                                               tweet  \n",
       "0  今日はべーやとまゆちゃんが買い物に来てくれた💯👄💗幸せいっぱい。本当にありがとう😢あしたから...  \n",
       "1                                               まゆすき  \n",
       "2       お迎え遅くなってごめんねまゆ…まゆすき… https://t.co/Wcmh73q9uy  \n",
       "3  #まゆすき#デレマス絵描きさんと繋がりたい まゆすき........... https://...  \n",
       "4  @mayu__ten_1119 まゆありがとうーーー！❤️運動神経抜群で髪の毛サラッサラで可...  "
      ]
     },
     "execution_count": 6,
     "metadata": {},
     "output_type": "execute_result"
    }
   ],
   "source": [
    "df.head()"
   ]
  },
  {
   "cell_type": "code",
   "execution_count": 7,
   "metadata": {
    "collapsed": false
   },
   "outputs": [],
   "source": [
    "# 完全一致でまゆすきしている人がどれぐらいいるか確認\n",
    "# (Twitter検索するときに指定していなかったせい？)\n",
    "cond = df.tweet.str.contains(\".*まゆすき.*\")\n",
    "\n",
    "df = df[cond]"
   ]
  },
  {
   "cell_type": "code",
   "execution_count": 8,
   "metadata": {
    "collapsed": false
   },
   "outputs": [
    {
     "data": {
      "text/html": [
       "<div>\n",
       "<table border=\"1\" class=\"dataframe\">\n",
       "  <thead>\n",
       "    <tr style=\"text-align: right;\">\n",
       "      <th></th>\n",
       "      <th>bio</th>\n",
       "      <th>tweet</th>\n",
       "    </tr>\n",
       "  </thead>\n",
       "  <tbody>\n",
       "    <tr>\n",
       "      <th>1</th>\n",
       "      <td>†神崎蘭子・白坂小梅†担当  [Lv189]   Lunatic show101位   双翼...</td>\n",
       "      <td>まゆすき</td>\n",
       "    </tr>\n",
       "    <tr>\n",
       "      <th>2</th>\n",
       "      <td>なうたです 担当は桜庭薫硲先生アスラン恭二 あんスタ海外アニメマステMSSPバンやろなど雑に...</td>\n",
       "      <td>お迎え遅くなってごめんねまゆ…まゆすき… https://t.co/Wcmh73q9uy</td>\n",
       "    </tr>\n",
       "    <tr>\n",
       "      <th>3</th>\n",
       "      <td>”きょう”とよみます / 雑多垢 / 女の子多め / 提督プロデューサー団長総理社長 / ゲ...</td>\n",
       "      <td>#まゆすき#デレマス絵描きさんと繋がりたい まゆすき........... https://...</td>\n",
       "    </tr>\n",
       "    <tr>\n",
       "      <th>7</th>\n",
       "      <td>まゆすき。 現在の優先度:デレステ≫LoL≧PUBG</td>\n",
       "      <td>まゆすき https://t.co/cUkWswcd6y</td>\n",
       "    </tr>\n",
       "    <tr>\n",
       "      <th>8</th>\n",
       "      <td>◆りんたろうでもりーたでも■いいね怪人◆妄想とらくがきしかしない■おそろしくﾁｷﾝ■星ちゃん...</td>\n",
       "      <td>どやかわ…！！！ふとまゆすき！！！</td>\n",
       "    </tr>\n",
       "  </tbody>\n",
       "</table>\n",
       "</div>"
      ],
      "text/plain": [
       "                                                 bio  \\\n",
       "1  †神崎蘭子・白坂小梅†担当  [Lv189]   Lunatic show101位   双翼...   \n",
       "2  なうたです 担当は桜庭薫硲先生アスラン恭二 あんスタ海外アニメマステMSSPバンやろなど雑に...   \n",
       "3  ”きょう”とよみます / 雑多垢 / 女の子多め / 提督プロデューサー団長総理社長 / ゲ...   \n",
       "7                         まゆすき。 現在の優先度:デレステ≫LoL≧PUBG   \n",
       "8  ◆りんたろうでもりーたでも■いいね怪人◆妄想とらくがきしかしない■おそろしくﾁｷﾝ■星ちゃん...   \n",
       "\n",
       "                                               tweet  \n",
       "1                                               まゆすき  \n",
       "2       お迎え遅くなってごめんねまゆ…まゆすき… https://t.co/Wcmh73q9uy  \n",
       "3  #まゆすき#デレマス絵描きさんと繋がりたい まゆすき........... https://...  \n",
       "7                       まゆすき https://t.co/cUkWswcd6y  \n",
       "8                                  どやかわ…！！！ふとまゆすき！！！  "
      ]
     },
     "execution_count": 8,
     "metadata": {},
     "output_type": "execute_result"
    }
   ],
   "source": [
    "df.head()"
   ]
  },
  {
   "cell_type": "code",
   "execution_count": 9,
   "metadata": {
    "collapsed": false
   },
   "outputs": [
    {
     "data": {
      "text/html": [
       "<div>\n",
       "<table border=\"1\" class=\"dataframe\">\n",
       "  <thead>\n",
       "    <tr style=\"text-align: right;\">\n",
       "      <th></th>\n",
       "      <th>bio</th>\n",
       "      <th>tweet</th>\n",
       "    </tr>\n",
       "  </thead>\n",
       "  <tbody>\n",
       "    <tr>\n",
       "      <th>7</th>\n",
       "      <td>まゆすき。 現在の優先度:デレステ≫LoL≧PUBG</td>\n",
       "      <td>まゆすき https://t.co/cUkWswcd6y</td>\n",
       "    </tr>\n",
       "    <tr>\n",
       "      <th>25</th>\n",
       "      <td>まゆすき。 現在の優先度:デレステ≫LoL≧PUBG</td>\n",
       "      <td>まゆすき</td>\n",
       "    </tr>\n",
       "    <tr>\n",
       "      <th>32</th>\n",
       "      <td>ニードフォースピードと佐久間まゆがすきです</td>\n",
       "      <td>まゆすきまゆすちまゆちち</td>\n",
       "    </tr>\n",
       "    <tr>\n",
       "      <th>46</th>\n",
       "      <td>まゆすき。 アイコンはぴけ(@ipn03125)さんに頂きました。</td>\n",
       "      <td>@ipn03125 @8bit0120 まゆすき</td>\n",
       "    </tr>\n",
       "    <tr>\n",
       "      <th>47</th>\n",
       "      <td>ゲームと動物を愛するデレステP木村夏樹、佐久間まゆ担当ミリシタもちまちまと音ゲーセンスは皆無...</td>\n",
       "      <td>@8bit0120 @BruhBruhBlye ﾋｴｯ…でもまゆすき</td>\n",
       "    </tr>\n",
       "    <tr>\n",
       "      <th>48</th>\n",
       "      <td>埋められたり魂を勝手に賭けに使われたりカオス三将軍になったりエイの肝になったりしてるまゆP動...</td>\n",
       "      <td>@ipn03125 @BruhBruhBlye まゆすき https://t.co/AjmQ...</td>\n",
       "    </tr>\n",
       "    <tr>\n",
       "      <th>49</th>\n",
       "      <td>ゲームと動物を愛するデレステP木村夏樹、佐久間まゆ担当ミリシタもちまちまと音ゲーセンスは皆無...</td>\n",
       "      <td>@8bit0120 @BruhBruhBlye まゆすき</td>\n",
       "    </tr>\n",
       "    <tr>\n",
       "      <th>51</th>\n",
       "      <td>空リプ感想マン 森久保＆まゆP プロフ絵はフレンドから頂きました。男です</td>\n",
       "      <td>ぽんこつなまゆすきポぁすき</td>\n",
       "    </tr>\n",
       "    <tr>\n",
       "      <th>53</th>\n",
       "      <td>まゆすき。 アイコンはぴけ(@ipn03125)さんに頂きました。</td>\n",
       "      <td>@ipn03125 まゆすきまゆかわいいまゆいとおしいまゆつよいまゆすきまゆあいしてるまゆと...</td>\n",
       "    </tr>\n",
       "    <tr>\n",
       "      <th>54</th>\n",
       "      <td>ゲームと動物を愛するデレステP木村夏樹、佐久間まゆ担当ミリシタもちまちまと音ゲーセンスは皆無...</td>\n",
       "      <td>@BruhBruhBlye まゆすきまゆかわいいまゆあいしてる</td>\n",
       "    </tr>\n",
       "    <tr>\n",
       "      <th>55</th>\n",
       "      <td>まゆすき。 アイコンはぴけ(@ipn03125)さんに頂きました。</td>\n",
       "      <td>@ipn03125 そこかわいいですよねw まゆすき…</td>\n",
       "    </tr>\n",
       "    <tr>\n",
       "      <th>64</th>\n",
       "      <td>プロ野球、高校野球大好き！(応援球団は中日)平和的な思考サンシャイン→花丸デレステ→まゆ、心...</td>\n",
       "      <td>デレステ始めると推しが増えてしまったまゆすき</td>\n",
       "    </tr>\n",
       "    <tr>\n",
       "      <th>80</th>\n",
       "      <td>プロ野球、高校野球大好き！(応援球団は中日)平和的な思考サンシャイン→花丸デレステ→まゆ、心...</td>\n",
       "      <td>初めて言おうまゆすき</td>\n",
       "    </tr>\n",
       "    <tr>\n",
       "      <th>87</th>\n",
       "      <td>デレステアカウント。プラチナオーディションガシャのSSR排出率より低い確率でまゆすきとつぶや...</td>\n",
       "      <td>今回はこれでツアー名は「まゆすき」です https://t.co/bjP5vXKLAU</td>\n",
       "    </tr>\n",
       "    <tr>\n",
       "      <th>88</th>\n",
       "      <td>埋められたり魂を勝手に賭けに使われたりカオス三将軍になったりエイの肝になったりしてるまゆP動...</td>\n",
       "      <td>まゆすき</td>\n",
       "    </tr>\n",
       "    <tr>\n",
       "      <th>89</th>\n",
       "      <td>みく、紗枝、まゆPの大学生 加蓮も蘭子も幸子もしゅがはも好き！  絡んだり、騒いだり、加工し...</td>\n",
       "      <td>ハロウィンまゆと魔女っ娘まゆと表現揺れ多いけど、まゆはまゆです それはそうとまゆすき htt...</td>\n",
       "    </tr>\n",
       "    <tr>\n",
       "      <th>91</th>\n",
       "      <td>佐久間まゆPです！まゆのために生き、まゆのために死にます。まゆすきのやべーやつですが、気軽に...</td>\n",
       "      <td>まゆすき</td>\n",
       "    </tr>\n",
       "    <tr>\n",
       "      <th>105</th>\n",
       "      <td>無言フォロー、フォロバ失礼します。 佐久間まゆ、島村卯月、龍崎薫、乙倉悠貴担当です。デレマス...</td>\n",
       "      <td>@remunn1 まゆも本当おめでとうございます(((o(*ﾟ▽ﾟ*)o)))恒常まゆも最高...</td>\n",
       "    </tr>\n",
       "    <tr>\n",
       "      <th>107</th>\n",
       "      <td>シンデレラまゆP SideM道夫P                             ...</td>\n",
       "      <td>本当にまゆがいなかったらここまでメンタル回復出来なかったと思ってる…まゆすき…すき…</td>\n",
       "    </tr>\n",
       "    <tr>\n",
       "      <th>122</th>\n",
       "      <td>アイマスPです！たまにお絵かきしたり、別名義で声のお仕事をちょこちょこやってます！765プロ...</td>\n",
       "      <td>あっ･･････まゆすき･･･ https://t.co/at6qkTuZBM</td>\n",
       "    </tr>\n",
       "    <tr>\n",
       "      <th>127</th>\n",
       "      <td>佐久間まゆPです！まゆのために生き、まゆのために死にます。まゆすきのやべーやつですが、気軽に...</td>\n",
       "      <td>@HIRORIKON まゆすき(家宝にしたのでむーりぃー)</td>\n",
       "    </tr>\n",
       "    <tr>\n",
       "      <th>130</th>\n",
       "      <td>菊池真 佐久間まゆ 輿水幸子</td>\n",
       "      <td>@himax357 まゆすき（送料そちら負担でくれないか？）</td>\n",
       "    </tr>\n",
       "    <tr>\n",
       "      <th>131</th>\n",
       "      <td>myanm[本田未央、依田芳乃、森久保乃々、赤城みりあ、浜口あやめ]というユニットを作って遊...</td>\n",
       "      <td>@kanegon79 まゆすきカネゴンさんのまゆかわいいまゆありがとう</td>\n",
       "    </tr>\n",
       "    <tr>\n",
       "      <th>148</th>\n",
       "      <td>まゆすき。 現在の優先度:デレステ≫LoL≧PUBG</td>\n",
       "      <td>まゆすき https://t.co/SEpueHgrVK</td>\n",
       "    </tr>\n",
       "    <tr>\n",
       "      <th>151</th>\n",
       "      <td>佐久間まゆPです！まゆのために生き、まゆのために死にます。まゆすきのやべーやつですが、気軽に...</td>\n",
       "      <td>まゆすきぃ</td>\n",
       "    </tr>\n",
       "    <tr>\n",
       "      <th>168</th>\n",
       "      <td>twitter初心者、まゆすき、お絵かきしたい、星新一すき。</td>\n",
       "      <td>いろいろ手直し中…まゆすき（発作 https://t.co/7IrGLbPM5s</td>\n",
       "    </tr>\n",
       "    <tr>\n",
       "      <th>181</th>\n",
       "      <td>まゆちゃん/まゆちゃん/まゆちゃん/ままゆ/まゆちゃん 壱にままゆ、弐にままゆ、参肆が無くて...</td>\n",
       "      <td>佐久間まゆ担当のいくみんです。……まゆすき</td>\n",
       "    </tr>\n",
       "    <tr>\n",
       "      <th>184</th>\n",
       "      <td>モバマスプロダクション 佐久間まゆにガラスの靴をプロジェクト代表 。</td>\n",
       "      <td>実際まゆさんくらいになると、小難しい理屈より まゆすき の方が適切で最適解な気がしないことも...</td>\n",
       "    </tr>\n",
       "    <tr>\n",
       "      <th>195</th>\n",
       "      <td>りずです。佐久間まゆちゃんPです。DPBMSとかやってました。お絵かきうまくなりたいです。 ...</td>\n",
       "      <td>あーーーーーまゆすきすきすきすきすきすきすきすきすき</td>\n",
       "    </tr>\n",
       "    <tr>\n",
       "      <th>199</th>\n",
       "      <td>佐久間まゆPです！まゆのために生き、まゆのために死にます。まゆすきのやべーやつですが、気軽に...</td>\n",
       "      <td>今日もまゆすきコーデ https://t.co/0ScQsiTyhc</td>\n",
       "    </tr>\n",
       "    <tr>\n",
       "      <th>...</th>\n",
       "      <td>...</td>\n",
       "      <td>...</td>\n",
       "    </tr>\n",
       "    <tr>\n",
       "      <th>5133</th>\n",
       "      <td>よろしくお願いします。デレステやってます。ただの佐久間まゆがすきなまゆPです。ウニやってたり...</td>\n",
       "      <td>@nico_miku49 んああああああああ！！！！！まゆかわいいいいいいい！！！！！！まゆ...</td>\n",
       "    </tr>\n",
       "    <tr>\n",
       "      <th>5142</th>\n",
       "      <td>佐久間まゆ、櫻井桃華Ｐです。デレステやったり絵描いたりしてます。</td>\n",
       "      <td>デレの名刺ケース欲しいのでサクヤヒメの誰か買い取るので譲ってください……まゆすき…</td>\n",
       "    </tr>\n",
       "    <tr>\n",
       "      <th>5145</th>\n",
       "      <td>佐久間まゆ担当高校生P。デレステ(ID:951980742)/ミリシタ(ID:ER35S6L...</td>\n",
       "      <td>まゆすき https://t.co/a2HWzvGyZ6</td>\n",
       "    </tr>\n",
       "    <tr>\n",
       "      <th>5149</th>\n",
       "      <td>創作/wrwrd!/デレステ【佐久間まゆ】i:サメちゃん✱限定まゆ天井叩きます</td>\n",
       "      <td>あーーーーーーーーーーダメダメダメダメダメこれーーーーーーーーこれーーーーーーーーーーすごい...</td>\n",
       "    </tr>\n",
       "    <tr>\n",
       "      <th>5154</th>\n",
       "      <td>まゆ好き きよひー好き シノアリスエンジョイ勢</td>\n",
       "      <td>まゆすきまゆすきまゆすきまゆすきまゆすきまゆすきまゆすきまゆすきまゆすきまゆすきまゆすきまゆ...</td>\n",
       "    </tr>\n",
       "    <tr>\n",
       "      <th>5159</th>\n",
       "      <td>・RT多めなのでご注意 ・型月関係とグラブル、デレステ(佐久間まゆ)の話が多めたまに絵を描く...</td>\n",
       "      <td>まゆすき</td>\n",
       "    </tr>\n",
       "    <tr>\n",
       "      <th>5167</th>\n",
       "      <td>本業は親指勢ありすP 話題はなんでも気軽な絡み待ってますアイコンはあいえそ(@aiesuou...</td>\n",
       "      <td>まゆすき</td>\n",
       "    </tr>\n",
       "    <tr>\n",
       "      <th>5168</th>\n",
       "      <td>まゆ智絵里ゆかり響子PのDOOMが好きなお絵かきマン</td>\n",
       "      <td>まゆすき加速装置（まゆ本人）</td>\n",
       "    </tr>\n",
       "    <tr>\n",
       "      <th>5173</th>\n",
       "      <td>まゆPです ♡ グラブルはゆっくりやってます。ID 2097547 デレステ:125371051</td>\n",
       "      <td>@XB_Es まゆすき</td>\n",
       "    </tr>\n",
       "    <tr>\n",
       "      <th>5174</th>\n",
       "      <td>まゆ智絵里ゆかり響子PのDOOMが好きなお絵かきマン</td>\n",
       "      <td>宇宙はやがてまゆすきに染まる。太陽はリボンで結ばれピンクに光る</td>\n",
       "    </tr>\n",
       "    <tr>\n",
       "      <th>5178</th>\n",
       "      <td>まゆ智絵里ゆかり響子PのDOOMが好きなお絵かきマン</td>\n",
       "      <td>まゆすき家</td>\n",
       "    </tr>\n",
       "    <tr>\n",
       "      <th>5180</th>\n",
       "      <td>まゆすき。漫画を描いたりします。</td>\n",
       "      <td>まゆすき</td>\n",
       "    </tr>\n",
       "    <tr>\n",
       "      <th>5182</th>\n",
       "      <td>まゆ智絵里ゆかり響子PのDOOMが好きなお絵かきマン</td>\n",
       "      <td>超まゆすき</td>\n",
       "    </tr>\n",
       "    <tr>\n",
       "      <th>5202</th>\n",
       "      <td>まゆが大好きなPくんです。主にMVのスクショ上げたり色々なアイドルの話したりするよ。まゆすき...</td>\n",
       "      <td>まゆすき#デレステスクショお昼の1枚 https://t.co/1eImJNVfNI</td>\n",
       "    </tr>\n",
       "    <tr>\n",
       "      <th>5203</th>\n",
       "      <td>音ゲークソザコナメクジな佐久間まゆ担当P/第1期8期アイドルマスター/Love∞Destin...</td>\n",
       "      <td>@takoberuze @horoukunn まゆすきの刑🎀🎀🎀</td>\n",
       "    </tr>\n",
       "    <tr>\n",
       "      <th>5232</th>\n",
       "      <td>適合者 飛鳥担当/凛乃々サブ担当 佐久間まゆに魂を捧げた男歌詞ツイをするヤバい奴</td>\n",
       "      <td>まゆすき</td>\n",
       "    </tr>\n",
       "    <tr>\n",
       "      <th>5237</th>\n",
       "      <td>みく、紗枝、まゆPの大学生 加蓮も蘭子も幸子もしゅがはも好き！  絡んだり、騒いだり、加工し...</td>\n",
       "      <td>わかるわまゆすき https://t.co/ekeY1rhrQy</td>\n",
       "    </tr>\n",
       "    <tr>\n",
       "      <th>5241</th>\n",
       "      <td>高垣さん家の楓さんP/ みりあちゃんP/宵乙女/推し→小梅ちゃん,ままゆ,蘭子ちゃん,法子ち...</td>\n",
       "      <td>@ryukatann りかさんおはかえでー♪今日も頑張りましょう！ままゆお迎えおめでとです！...</td>\n",
       "    </tr>\n",
       "    <tr>\n",
       "      <th>5248</th>\n",
       "      <td>響P､まゆP24歳雄、浅く広くなんでもかんでも好きになる雑食野郎ですやりたいことが多いけど一...</td>\n",
       "      <td>仕事がしんどいまゆすき</td>\n",
       "    </tr>\n",
       "    <tr>\n",
       "      <th>5265</th>\n",
       "      <td>☆ラブライブ/デレマス/バンドリ/艦これ☆ ことり・ままゆLOVE勢 ペットはすずめ。 アイ...</td>\n",
       "      <td>おお、、、、おおおおお！！まゆすき https://t.co/QBbj2RtKHm</td>\n",
       "    </tr>\n",
       "    <tr>\n",
       "      <th>5273</th>\n",
       "      <td>デレステ気ままに気楽にやってます。親指派。ままゆかわゆい 佐久間まゆ担当みんなかわいい色々呟...</td>\n",
       "      <td>まゆすき</td>\n",
       "    </tr>\n",
       "    <tr>\n",
       "      <th>5275</th>\n",
       "      <td>空リプ感想マン 森久保＆まゆP プロフ絵はフレンドから頂きました。男です</td>\n",
       "      <td>まゆ可愛い…まゆすき</td>\n",
       "    </tr>\n",
       "    <tr>\n",
       "      <th>5278</th>\n",
       "      <td>成人済♀雑食･百合両刀腐女子／デレステ(きらり、森久保、ままゆP）／Free! 渚怜渚,ぬい...</td>\n",
       "      <td>前のどちゃくそ可愛い蘭子ちゃんの後ろでデコピースしてるまゆすき#まゆすき https://t...</td>\n",
       "    </tr>\n",
       "    <tr>\n",
       "      <th>5279</th>\n",
       "      <td>音ゲー好きの古明地さとりキチガイです＿ 昔ダンおに作ってました＿ 最近はグラブルの話題多め＿...</td>\n",
       "      <td>まゆCordで普通にまゆすきするだけじゃ芸がないなと思い始めて、工夫してまゆすきするように意...</td>\n",
       "    </tr>\n",
       "    <tr>\n",
       "      <th>5281</th>\n",
       "      <td>神戸大学合格目指す音ゲーマー💫前川＆櫻井＆宮本＆まゆP  💫♪デレステ☆彡ガルパ☆彡ミリシタ...</td>\n",
       "      <td>え、、……まゆすき💕 https://t.co/2f8VkXbQlG</td>\n",
       "    </tr>\n",
       "    <tr>\n",
       "      <th>5284</th>\n",
       "      <td>洋裁が好きです。FF関係なくリプはお気軽に。Daisuki Jagaimo ALICE （各...</td>\n",
       "      <td>佐藤心と結婚したいしまゆすき勢だからしゅがまゆ完全にアリなんだよなぁ</td>\n",
       "    </tr>\n",
       "    <tr>\n",
       "      <th>5291</th>\n",
       "      <td>ままゆ担当P</td>\n",
       "      <td>まゆすき療法という治療法で延命してる。</td>\n",
       "    </tr>\n",
       "    <tr>\n",
       "      <th>5292</th>\n",
       "      <td>ミザヨイと読みます ミサイルです Hearthstone勢 まゆP オルクス thirtys...</td>\n",
       "      <td>@momota0118 こちらこそフォローありがとうございます！！こちらも生粋のまゆPです！...</td>\n",
       "    </tr>\n",
       "    <tr>\n",
       "      <th>5294</th>\n",
       "      <td>佐久間まゆPです！まゆのために生き、まゆのために死にます。まゆすきのやべーやつですが、気軽に...</td>\n",
       "      <td>@8_10_5 フォローありがとうございます！まゆすきばっかり言ってますがよろしくお願いします♪</td>\n",
       "    </tr>\n",
       "    <tr>\n",
       "      <th>5296</th>\n",
       "      <td>みく、紗枝、まゆPの大学生 加蓮も蘭子も幸子もしゅがはも好き！  絡んだり、騒いだり、加工し...</td>\n",
       "      <td>まゆすきまゆすきまゆすきまゆすきまゆすきまゆすきまゆすきまゆすきまゆすきまゆすきまゆすき紗枝...</td>\n",
       "    </tr>\n",
       "  </tbody>\n",
       "</table>\n",
       "<p>803 rows × 2 columns</p>\n",
       "</div>"
      ],
      "text/plain": [
       "                                                    bio  \\\n",
       "7                            まゆすき。 現在の優先度:デレステ≫LoL≧PUBG   \n",
       "25                           まゆすき。 現在の優先度:デレステ≫LoL≧PUBG   \n",
       "32                                ニードフォースピードと佐久間まゆがすきです   \n",
       "46                    まゆすき。 アイコンはぴけ(@ipn03125)さんに頂きました。   \n",
       "47    ゲームと動物を愛するデレステP木村夏樹、佐久間まゆ担当ミリシタもちまちまと音ゲーセンスは皆無...   \n",
       "48    埋められたり魂を勝手に賭けに使われたりカオス三将軍になったりエイの肝になったりしてるまゆP動...   \n",
       "49    ゲームと動物を愛するデレステP木村夏樹、佐久間まゆ担当ミリシタもちまちまと音ゲーセンスは皆無...   \n",
       "51                 空リプ感想マン 森久保＆まゆP プロフ絵はフレンドから頂きました。男です   \n",
       "53                    まゆすき。 アイコンはぴけ(@ipn03125)さんに頂きました。   \n",
       "54    ゲームと動物を愛するデレステP木村夏樹、佐久間まゆ担当ミリシタもちまちまと音ゲーセンスは皆無...   \n",
       "55                    まゆすき。 アイコンはぴけ(@ipn03125)さんに頂きました。   \n",
       "64    プロ野球、高校野球大好き！(応援球団は中日)平和的な思考サンシャイン→花丸デレステ→まゆ、心...   \n",
       "80    プロ野球、高校野球大好き！(応援球団は中日)平和的な思考サンシャイン→花丸デレステ→まゆ、心...   \n",
       "87    デレステアカウント。プラチナオーディションガシャのSSR排出率より低い確率でまゆすきとつぶや...   \n",
       "88    埋められたり魂を勝手に賭けに使われたりカオス三将軍になったりエイの肝になったりしてるまゆP動...   \n",
       "89    みく、紗枝、まゆPの大学生 加蓮も蘭子も幸子もしゅがはも好き！  絡んだり、騒いだり、加工し...   \n",
       "91    佐久間まゆPです！まゆのために生き、まゆのために死にます。まゆすきのやべーやつですが、気軽に...   \n",
       "105   無言フォロー、フォロバ失礼します。 佐久間まゆ、島村卯月、龍崎薫、乙倉悠貴担当です。デレマス...   \n",
       "107   シンデレラまゆP SideM道夫P                             ...   \n",
       "122   アイマスPです！たまにお絵かきしたり、別名義で声のお仕事をちょこちょこやってます！765プロ...   \n",
       "127   佐久間まゆPです！まゆのために生き、まゆのために死にます。まゆすきのやべーやつですが、気軽に...   \n",
       "130                                      菊池真 佐久間まゆ 輿水幸子   \n",
       "131   myanm[本田未央、依田芳乃、森久保乃々、赤城みりあ、浜口あやめ]というユニットを作って遊...   \n",
       "148                          まゆすき。 現在の優先度:デレステ≫LoL≧PUBG   \n",
       "151   佐久間まゆPです！まゆのために生き、まゆのために死にます。まゆすきのやべーやつですが、気軽に...   \n",
       "168                      twitter初心者、まゆすき、お絵かきしたい、星新一すき。   \n",
       "181   まゆちゃん/まゆちゃん/まゆちゃん/ままゆ/まゆちゃん 壱にままゆ、弐にままゆ、参肆が無くて...   \n",
       "184                  モバマスプロダクション 佐久間まゆにガラスの靴をプロジェクト代表 。   \n",
       "195   りずです。佐久間まゆちゃんPです。DPBMSとかやってました。お絵かきうまくなりたいです。 ...   \n",
       "199   佐久間まゆPです！まゆのために生き、まゆのために死にます。まゆすきのやべーやつですが、気軽に...   \n",
       "...                                                 ...   \n",
       "5133  よろしくお願いします。デレステやってます。ただの佐久間まゆがすきなまゆPです。ウニやってたり...   \n",
       "5142                   佐久間まゆ、櫻井桃華Ｐです。デレステやったり絵描いたりしてます。   \n",
       "5145  佐久間まゆ担当高校生P。デレステ(ID:951980742)/ミリシタ(ID:ER35S6L...   \n",
       "5149            創作/wrwrd!/デレステ【佐久間まゆ】i:サメちゃん✱限定まゆ天井叩きます   \n",
       "5154                            まゆ好き きよひー好き シノアリスエンジョイ勢   \n",
       "5159  ・RT多めなのでご注意 ・型月関係とグラブル、デレステ(佐久間まゆ)の話が多めたまに絵を描く...   \n",
       "5167  本業は親指勢ありすP 話題はなんでも気軽な絡み待ってますアイコンはあいえそ(@aiesuou...   \n",
       "5168                         まゆ智絵里ゆかり響子PのDOOMが好きなお絵かきマン   \n",
       "5173   まゆPです ♡ グラブルはゆっくりやってます。ID 2097547 デレステ:125371051   \n",
       "5174                         まゆ智絵里ゆかり響子PのDOOMが好きなお絵かきマン   \n",
       "5178                         まゆ智絵里ゆかり響子PのDOOMが好きなお絵かきマン   \n",
       "5180                                   まゆすき。漫画を描いたりします。   \n",
       "5182                         まゆ智絵里ゆかり響子PのDOOMが好きなお絵かきマン   \n",
       "5202  まゆが大好きなPくんです。主にMVのスクショ上げたり色々なアイドルの話したりするよ。まゆすき...   \n",
       "5203  音ゲークソザコナメクジな佐久間まゆ担当P/第1期8期アイドルマスター/Love∞Destin...   \n",
       "5232           適合者 飛鳥担当/凛乃々サブ担当 佐久間まゆに魂を捧げた男歌詞ツイをするヤバい奴   \n",
       "5237  みく、紗枝、まゆPの大学生 加蓮も蘭子も幸子もしゅがはも好き！  絡んだり、騒いだり、加工し...   \n",
       "5241  高垣さん家の楓さんP/ みりあちゃんP/宵乙女/推し→小梅ちゃん,ままゆ,蘭子ちゃん,法子ち...   \n",
       "5248  響P､まゆP24歳雄、浅く広くなんでもかんでも好きになる雑食野郎ですやりたいことが多いけど一...   \n",
       "5265  ☆ラブライブ/デレマス/バンドリ/艦これ☆ ことり・ままゆLOVE勢 ペットはすずめ。 アイ...   \n",
       "5273  デレステ気ままに気楽にやってます。親指派。ままゆかわゆい 佐久間まゆ担当みんなかわいい色々呟...   \n",
       "5275               空リプ感想マン 森久保＆まゆP プロフ絵はフレンドから頂きました。男です   \n",
       "5278  成人済♀雑食･百合両刀腐女子／デレステ(きらり、森久保、ままゆP）／Free! 渚怜渚,ぬい...   \n",
       "5279  音ゲー好きの古明地さとりキチガイです＿ 昔ダンおに作ってました＿ 最近はグラブルの話題多め＿...   \n",
       "5281  神戸大学合格目指す音ゲーマー💫前川＆櫻井＆宮本＆まゆP  💫♪デレステ☆彡ガルパ☆彡ミリシタ...   \n",
       "5284  洋裁が好きです。FF関係なくリプはお気軽に。Daisuki Jagaimo ALICE （各...   \n",
       "5291                                             ままゆ担当P   \n",
       "5292  ミザヨイと読みます ミサイルです Hearthstone勢 まゆP オルクス thirtys...   \n",
       "5294  佐久間まゆPです！まゆのために生き、まゆのために死にます。まゆすきのやべーやつですが、気軽に...   \n",
       "5296  みく、紗枝、まゆPの大学生 加蓮も蘭子も幸子もしゅがはも好き！  絡んだり、騒いだり、加工し...   \n",
       "\n",
       "                                                  tweet  \n",
       "7                          まゆすき https://t.co/cUkWswcd6y  \n",
       "25                                                 まゆすき  \n",
       "32                                         まゆすきまゆすちまゆちち  \n",
       "46                             @ipn03125 @8bit0120 まゆすき  \n",
       "47                   @8bit0120 @BruhBruhBlye ﾋｴｯ…でもまゆすき  \n",
       "48    @ipn03125 @BruhBruhBlye まゆすき https://t.co/AjmQ...  \n",
       "49                         @8bit0120 @BruhBruhBlye まゆすき  \n",
       "51                                        ぽんこつなまゆすきポぁすき  \n",
       "53    @ipn03125 まゆすきまゆかわいいまゆいとおしいまゆつよいまゆすきまゆあいしてるまゆと...  \n",
       "54                      @BruhBruhBlye まゆすきまゆかわいいまゆあいしてる  \n",
       "55                          @ipn03125 そこかわいいですよねw まゆすき…  \n",
       "64                               デレステ始めると推しが増えてしまったまゆすき  \n",
       "80                                           初めて言おうまゆすき  \n",
       "87          今回はこれでツアー名は「まゆすき」です https://t.co/bjP5vXKLAU  \n",
       "88                                                 まゆすき  \n",
       "89    ハロウィンまゆと魔女っ娘まゆと表現揺れ多いけど、まゆはまゆです それはそうとまゆすき htt...  \n",
       "91                                                 まゆすき  \n",
       "105   @remunn1 まゆも本当おめでとうございます(((o(*ﾟ▽ﾟ*)o)))恒常まゆも最高...  \n",
       "107          本当にまゆがいなかったらここまでメンタル回復出来なかったと思ってる…まゆすき…すき…  \n",
       "122             あっ･･････まゆすき･･･ https://t.co/at6qkTuZBM  \n",
       "127                       @HIRORIKON まゆすき(家宝にしたのでむーりぃー)  \n",
       "130                      @himax357 まゆすき（送料そちら負担でくれないか？）  \n",
       "131                 @kanegon79 まゆすきカネゴンさんのまゆかわいいまゆありがとう  \n",
       "148                        まゆすき https://t.co/SEpueHgrVK  \n",
       "151                                               まゆすきぃ  \n",
       "168            いろいろ手直し中…まゆすき（発作 https://t.co/7IrGLbPM5s  \n",
       "181                               佐久間まゆ担当のいくみんです。……まゆすき  \n",
       "184   実際まゆさんくらいになると、小難しい理屈より まゆすき の方が適切で最適解な気がしないことも...  \n",
       "195                          あーーーーーまゆすきすきすきすきすきすきすきすきすき  \n",
       "199                  今日もまゆすきコーデ https://t.co/0ScQsiTyhc  \n",
       "...                                                 ...  \n",
       "5133  @nico_miku49 んああああああああ！！！！！まゆかわいいいいいいい！！！！！！まゆ...  \n",
       "5142          デレの名刺ケース欲しいのでサクヤヒメの誰か買い取るので譲ってください……まゆすき…  \n",
       "5145                       まゆすき https://t.co/a2HWzvGyZ6  \n",
       "5149  あーーーーーーーーーーダメダメダメダメダメこれーーーーーーーーこれーーーーーーーーーーすごい...  \n",
       "5154  まゆすきまゆすきまゆすきまゆすきまゆすきまゆすきまゆすきまゆすきまゆすきまゆすきまゆすきまゆ...  \n",
       "5159                                               まゆすき  \n",
       "5167                                               まゆすき  \n",
       "5168                                     まゆすき加速装置（まゆ本人）  \n",
       "5173                                        @XB_Es まゆすき  \n",
       "5174                    宇宙はやがてまゆすきに染まる。太陽はリボンで結ばれピンクに光る  \n",
       "5178                                              まゆすき家  \n",
       "5180                                               まゆすき  \n",
       "5182                                              超まゆすき  \n",
       "5202         まゆすき#デレステスクショお昼の1枚 https://t.co/1eImJNVfNI  \n",
       "5203                   @takoberuze @horoukunn まゆすきの刑🎀🎀🎀  \n",
       "5232                                               まゆすき  \n",
       "5237                   わかるわまゆすき https://t.co/ekeY1rhrQy  \n",
       "5241  @ryukatann りかさんおはかえでー♪今日も頑張りましょう！ままゆお迎えおめでとです！...  \n",
       "5248                                        仕事がしんどいまゆすき  \n",
       "5265          おお、、、、おおおおお！！まゆすき https://t.co/QBbj2RtKHm  \n",
       "5273                                               まゆすき  \n",
       "5275                                         まゆ可愛い…まゆすき  \n",
       "5278  前のどちゃくそ可愛い蘭子ちゃんの後ろでデコピースしてるまゆすき#まゆすき https://t...  \n",
       "5279  まゆCordで普通にまゆすきするだけじゃ芸がないなと思い始めて、工夫してまゆすきするように意...  \n",
       "5281                 え、、……まゆすき💕 https://t.co/2f8VkXbQlG  \n",
       "5284                 佐藤心と結婚したいしまゆすき勢だからしゅがまゆ完全にアリなんだよなぁ  \n",
       "5291                                まゆすき療法という治療法で延命してる。  \n",
       "5292  @momota0118 こちらこそフォローありがとうございます！！こちらも生粋のまゆPです！...  \n",
       "5294   @8_10_5 フォローありがとうございます！まゆすきばっかり言ってますがよろしくお願いします♪  \n",
       "5296  まゆすきまゆすきまゆすきまゆすきまゆすきまゆすきまゆすきまゆすきまゆすきまゆすきまゆすき紗枝...  \n",
       "\n",
       "[803 rows x 2 columns]"
      ]
     },
     "execution_count": 9,
     "metadata": {},
     "output_type": "execute_result"
    }
   ],
   "source": [
    "# bioに「まゆ」が含まれていたらまゆPと仮定．\n",
    "mayu_cond = df.bio.str.contains(\".*まゆ.*\")\n",
    "\n",
    "df[mayu_cond]"
   ]
  },
  {
   "cell_type": "code",
   "execution_count": 10,
   "metadata": {
    "collapsed": false
   },
   "outputs": [
    {
     "data": {
      "text/plain": [
       "0.218562874251497"
      ]
     },
     "execution_count": 10,
     "metadata": {},
     "output_type": "execute_result"
    }
   ],
   "source": [
    "len(df[mayu_cond]) / len(df)"
   ]
  },
  {
   "cell_type": "markdown",
   "metadata": {},
   "source": [
    "# 結論\n",
    "「まゆすき」のうち，まゆP（bioにまゆと書いているアカウント）の割合は**大体2割**らしい．想像以上に少ない．"
   ]
  },
  {
   "cell_type": "markdown",
   "metadata": {},
   "source": [
    "## おまけ，まゆの繰り返し回数取得\n",
    "以降はおまけで，まゆの繰り返し回数を見てみる．要するに，まゆPは「まゆ」って言い出したら何回も言うんじゃないの？という仮定．愛が深いからね．仕方ないね．"
   ]
  },
  {
   "cell_type": "code",
   "execution_count": 11,
   "metadata": {
    "collapsed": true
   },
   "outputs": [],
   "source": [
    "mayuP_df = df[mayu_cond]"
   ]
  },
  {
   "cell_type": "code",
   "execution_count": 12,
   "metadata": {
    "collapsed": false
   },
   "outputs": [],
   "source": [
    "# はじめて知った．～でnotになるらしい.\n",
    "# 参考　https://stackoverflow.com/questions/17097643/search-for-does-not-contain-on-a-dataframe-in-pandas\n",
    "not_mayuP_df = df[~mayu_cond]"
   ]
  },
  {
   "cell_type": "code",
   "execution_count": 13,
   "metadata": {
    "collapsed": true
   },
   "outputs": [],
   "source": [
    "import numpy as np"
   ]
  },
  {
   "cell_type": "code",
   "execution_count": 14,
   "metadata": {
    "collapsed": false
   },
   "outputs": [],
   "source": [
    "count_mayu_from_mayuP = pd.DataFrame([x.count(\"まゆ\") for x in mayuP_df.tweet])\n",
    "count_mayu_from_not_mayuP = pd.DataFrame([x.count(\"まゆ\") for x in not_mayuP_df.tweet])"
   ]
  },
  {
   "cell_type": "code",
   "execution_count": 15,
   "metadata": {
    "collapsed": false
   },
   "outputs": [
    {
     "data": {
      "text/html": [
       "<div>\n",
       "<table border=\"1\" class=\"dataframe\">\n",
       "  <thead>\n",
       "    <tr style=\"text-align: right;\">\n",
       "      <th></th>\n",
       "      <th>0</th>\n",
       "    </tr>\n",
       "  </thead>\n",
       "  <tbody>\n",
       "    <tr>\n",
       "      <th>count</th>\n",
       "      <td>803.000000</td>\n",
       "    </tr>\n",
       "    <tr>\n",
       "      <th>mean</th>\n",
       "      <td>1.549191</td>\n",
       "    </tr>\n",
       "    <tr>\n",
       "      <th>std</th>\n",
       "      <td>2.459347</td>\n",
       "    </tr>\n",
       "    <tr>\n",
       "      <th>min</th>\n",
       "      <td>1.000000</td>\n",
       "    </tr>\n",
       "    <tr>\n",
       "      <th>25%</th>\n",
       "      <td>1.000000</td>\n",
       "    </tr>\n",
       "    <tr>\n",
       "      <th>50%</th>\n",
       "      <td>1.000000</td>\n",
       "    </tr>\n",
       "    <tr>\n",
       "      <th>75%</th>\n",
       "      <td>1.000000</td>\n",
       "    </tr>\n",
       "    <tr>\n",
       "      <th>max</th>\n",
       "      <td>35.000000</td>\n",
       "    </tr>\n",
       "  </tbody>\n",
       "</table>\n",
       "</div>"
      ],
      "text/plain": [
       "                0\n",
       "count  803.000000\n",
       "mean     1.549191\n",
       "std      2.459347\n",
       "min      1.000000\n",
       "25%      1.000000\n",
       "50%      1.000000\n",
       "75%      1.000000\n",
       "max     35.000000"
      ]
     },
     "execution_count": 15,
     "metadata": {},
     "output_type": "execute_result"
    }
   ],
   "source": [
    "count_mayu_from_mayuP.describe()"
   ]
  },
  {
   "cell_type": "code",
   "execution_count": 16,
   "metadata": {
    "collapsed": false
   },
   "outputs": [
    {
     "data": {
      "text/html": [
       "<div>\n",
       "<table border=\"1\" class=\"dataframe\">\n",
       "  <thead>\n",
       "    <tr style=\"text-align: right;\">\n",
       "      <th></th>\n",
       "      <th>0</th>\n",
       "    </tr>\n",
       "  </thead>\n",
       "  <tbody>\n",
       "    <tr>\n",
       "      <th>count</th>\n",
       "      <td>2871.000000</td>\n",
       "    </tr>\n",
       "    <tr>\n",
       "      <th>mean</th>\n",
       "      <td>1.309997</td>\n",
       "    </tr>\n",
       "    <tr>\n",
       "      <th>std</th>\n",
       "      <td>1.908180</td>\n",
       "    </tr>\n",
       "    <tr>\n",
       "      <th>min</th>\n",
       "      <td>1.000000</td>\n",
       "    </tr>\n",
       "    <tr>\n",
       "      <th>25%</th>\n",
       "      <td>1.000000</td>\n",
       "    </tr>\n",
       "    <tr>\n",
       "      <th>50%</th>\n",
       "      <td>1.000000</td>\n",
       "    </tr>\n",
       "    <tr>\n",
       "      <th>75%</th>\n",
       "      <td>1.000000</td>\n",
       "    </tr>\n",
       "    <tr>\n",
       "      <th>max</th>\n",
       "      <td>38.000000</td>\n",
       "    </tr>\n",
       "  </tbody>\n",
       "</table>\n",
       "</div>"
      ],
      "text/plain": [
       "                 0\n",
       "count  2871.000000\n",
       "mean      1.309997\n",
       "std       1.908180\n",
       "min       1.000000\n",
       "25%       1.000000\n",
       "50%       1.000000\n",
       "75%       1.000000\n",
       "max      38.000000"
      ]
     },
     "execution_count": 16,
     "metadata": {},
     "output_type": "execute_result"
    }
   ],
   "source": [
    "count_mayu_from_not_mayuP.describe()"
   ]
  },
  {
   "cell_type": "code",
   "execution_count": 22,
   "metadata": {
    "collapsed": false
   },
   "outputs": [
    {
     "data": {
      "text/plain": [
       "152"
      ]
     },
     "execution_count": 22,
     "metadata": {},
     "output_type": "execute_result"
    }
   ],
   "source": [
    "# 1まゆすきで4文字のため．\n",
    "4 * 38"
   ]
  },
  {
   "cell_type": "markdown",
   "metadata": {},
   "source": [
    "1ツイート120字までのはずでは……．どういうことなの……．"
   ]
  },
  {
   "cell_type": "code",
   "execution_count": 18,
   "metadata": {
    "collapsed": false
   },
   "outputs": [
    {
     "data": {
      "text/plain": [
       "0.0722291407222914"
      ]
     },
     "execution_count": 18,
     "metadata": {},
     "output_type": "execute_result"
    }
   ],
   "source": [
    "len(count_mayu_from_mayuP[count_mayu_from_mayuP[0] > 2]) / len(count_mayu_from_mayuP)"
   ]
  },
  {
   "cell_type": "code",
   "execution_count": 19,
   "metadata": {
    "collapsed": false
   },
   "outputs": [
    {
     "data": {
      "text/plain": [
       "0.035179380006966215"
      ]
     },
     "execution_count": 19,
     "metadata": {},
     "output_type": "execute_result"
    }
   ],
   "source": [
    "len(count_mayu_from_not_mayuP[count_mayu_from_not_mayuP[0] > 2]) / len(count_mayu_from_not_mayuP)"
   ]
  },
  {
   "cell_type": "markdown",
   "metadata": {},
   "source": [
    "当然っちゃ当然だけど，まゆPのほうがまゆすきを1つぶやきで複数回している割合が高い．せやろな．"
   ]
  },
  {
   "cell_type": "code",
   "execution_count": null,
   "metadata": {
    "collapsed": true
   },
   "outputs": [],
   "source": []
  }
 ],
 "metadata": {
  "kernelspec": {
   "display_name": "Python 3",
   "language": "python",
   "name": "python3"
  },
  "language_info": {
   "codemirror_mode": {
    "name": "ipython",
    "version": 3
   },
   "file_extension": ".py",
   "mimetype": "text/x-python",
   "name": "python",
   "nbconvert_exporter": "python",
   "pygments_lexer": "ipython3",
   "version": "3.6.0"
  }
 },
 "nbformat": 4,
 "nbformat_minor": 2
}
